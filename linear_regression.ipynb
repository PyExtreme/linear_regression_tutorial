{
 "cells": [
  {
   "cell_type": "markdown",
   "metadata": {},
   "source": [
    "### Regression\n",
    "Given the following values of X and Y, \n",
    "\n",
    "(1,1), (2,2), (4,4), (100,100), (20, 20)\n",
    "\n",
    "what is the value of Y when X = 5??\n",
    "\n",
    "The answer is : 5.\n",
    "\n",
    "\n",
    "Regression is Predicting a continuous-valued attribute(Attribute which is measurable like height, weight, time) associated with an object\n",
    "\n",
    "$$y = mx + c$$\n",
    "\n",
    "Y is a function of x and this is an equation of a straight line. \n",
    "\n",
    "![](https://scikit-learn.org/stable/_images/sphx_glr_plot_ols_001.png)\n",
    "\n",
    "\n",
    "In Simple Linear regression, we have a variable x(x1, x2, ..., xn) and a dependent variable y(y1, y2, ..., yn) which follows a linear relationship with x similar to **y = mx + c**. \n",
    "(House prices and Weight, height example)\n",
    "\n",
    "We have set of observations (x1, y1), (x2, y2), ..., (xn, yn) and our task if to find out the optimal parameters(m and c)so as to make predictions for new data.\n",
    "\n",
    "\n",
    "\n",
    "\n",
    "\n",
    "### What is Linear Regression\n",
    "\n",
    "Linear Regression fits a linear model with coefficients w = (w1, …, wp) to minimize loss between the observed targets in the dataset"
   ]
  },
  {
   "cell_type": "code",
   "execution_count": 1,
   "metadata": {},
   "outputs": [
    {
     "name": "stdout",
     "output_type": "stream",
     "text": [
      "Requirement already satisfied: numpy in /home/convolution/anaconda3/lib/python3.7/site-packages (1.17.2)\n",
      "Requirement already satisfied: matplotlib in /home/convolution/anaconda3/lib/python3.7/site-packages (3.1.1)\n",
      "Requirement already satisfied: cycler>=0.10 in /home/convolution/anaconda3/lib/python3.7/site-packages (from matplotlib) (0.10.0)\n",
      "Requirement already satisfied: kiwisolver>=1.0.1 in /home/convolution/anaconda3/lib/python3.7/site-packages (from matplotlib) (1.1.0)\n",
      "Requirement already satisfied: pyparsing!=2.0.4,!=2.1.2,!=2.1.6,>=2.0.1 in /home/convolution/anaconda3/lib/python3.7/site-packages (from matplotlib) (2.4.2)\n",
      "Requirement already satisfied: python-dateutil>=2.1 in /home/convolution/anaconda3/lib/python3.7/site-packages (from matplotlib) (2.8.0)\n",
      "Requirement already satisfied: numpy>=1.11 in /home/convolution/anaconda3/lib/python3.7/site-packages (from matplotlib) (1.17.2)\n",
      "Requirement already satisfied: six in /home/convolution/anaconda3/lib/python3.7/site-packages (from cycler>=0.10->matplotlib) (1.12.0)\n",
      "Requirement already satisfied: setuptools in /home/convolution/anaconda3/lib/python3.7/site-packages (from kiwisolver>=1.0.1->matplotlib) (41.4.0)\n",
      "Requirement already satisfied: pandas in /home/convolution/anaconda3/lib/python3.7/site-packages (0.25.1)\n",
      "Requirement already satisfied: python-dateutil>=2.6.1 in /home/convolution/anaconda3/lib/python3.7/site-packages (from pandas) (2.8.0)\n",
      "Requirement already satisfied: pytz>=2017.2 in /home/convolution/anaconda3/lib/python3.7/site-packages (from pandas) (2019.3)\n",
      "Requirement already satisfied: numpy>=1.13.3 in /home/convolution/anaconda3/lib/python3.7/site-packages (from pandas) (1.17.2)\n",
      "Requirement already satisfied: six>=1.5 in /home/convolution/anaconda3/lib/python3.7/site-packages (from python-dateutil>=2.6.1->pandas) (1.12.0)\n",
      "Requirement already satisfied: scikit-learn in /home/convolution/anaconda3/lib/python3.7/site-packages (0.21.3)\n",
      "Requirement already satisfied: scipy>=0.17.0 in /home/convolution/anaconda3/lib/python3.7/site-packages (from scikit-learn) (1.3.1)\n",
      "Requirement already satisfied: joblib>=0.11 in /home/convolution/anaconda3/lib/python3.7/site-packages (from scikit-learn) (0.13.2)\n",
      "Requirement already satisfied: numpy>=1.11.0 in /home/convolution/anaconda3/lib/python3.7/site-packages (from scikit-learn) (1.17.2)\n"
     ]
    }
   ],
   "source": [
    "# Installing Packages\n",
    "!pip install numpy\n",
    "!pip install matplotlib\n",
    "!pip install pandas\n",
    "!pip install scikit-learn\n"
    "!pip install seaborn"
   ]
  },
  {
   "cell_type": "code",
   "execution_count": 1,
   "metadata": {},
   "outputs": [],
   "source": [
    "# Importing Modules\n",
    "import numpy as np\n",
    "%matplotlib inline\n",
    "import matplotlib.pyplot as plt\n",
    "import pandas as pd\n",
    "from mpl_toolkits.mplot3d import Axes3D\n",
    "from sklearn.model_selection import train_test_split\n",
    "from sklearn.linear_model import LinearRegression, Lasso, Ridge\n",
    "from sklearn.model_selection import cross_val_score\n",
    "from scipy import stats\n",
    "import seaborn as sns\n",
    "sns.set(style=\"darkgrid\")\n",
    "plt.style.use('ggplot')"
   ]
  },
  {
   "cell_type": "markdown",
   "metadata": {},
   "source": [
    "### Example"
   ]
  },
  {
   "cell_type": "code",
   "execution_count": 2,
   "metadata": {},
   "outputs": [
    {
     "data": {
      "image/png": "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\n",
      "text/plain": [
       "<Figure size 432x288 with 1 Axes>"
      ]
     },
     "metadata": {
      "needs_background": "light"
     },
     "output_type": "display_data"
    }
   ],
   "source": [
    "num_hours_studied = np.array([1, 3, 3, 4, 5, 6, 7, 7, 8, 9, 10, 11, 12])\n",
    "exam_score = np.array([18, 26, 31, 40, 55, 62, 71, 70, 75, 85, 97, 100, 105])\n",
    "plt.scatter(num_hours_studied, exam_score)\n",
    "plt.xlabel('num_hours_studied')\n",
    "plt.ylabel('exam_score')\n",
    "plt.show()"
   ]
  },
  {
   "cell_type": "markdown",
   "metadata": {},
   "source": [
    "We can clearly see that there is a linear relationship. So in order to predict the exam_score for new tests or exams, given value of num hours studies, we need a linear model which can take input as num_hours_studies and return us the exam_score\n",
    "\n",
    "\n",
    "### But How??\n",
    "\n",
    "\n",
    "We have\n",
    "\n",
    "$$y = mx + c$$\n",
    "\n",
    "Here for known data, we already have x values and y values. we just need to approximate **m and c**. Then we will have a straight line\n",
    "In machine learning, we represent it as\n",
    "\n",
    "$$y = Wx + b$$\n",
    "\n",
    "where W is the weight vector(how much importance is assigned to a feature) and b is the bias or the intercept.\n",
    "\n",
    "We want to have a value of m and c which best fits our data. So there should be a proper mechanism so find out.\n",
    "\n",
    "\n",
    "#### Hypothesis\n",
    "\n",
    "Here we are making a \"hypothesis\" about the true nature of the underlying function - that it is linear.\n",
    "\n",
    "$$y = h_\\theta(x) = Wx + c$$\n",
    "\n"
   ]
  },
  {
   "cell_type": "markdown",
   "metadata": {},
   "source": [
    "## Loss Function"
   ]
  },
  {
   "cell_type": "markdown",
   "metadata": {},
   "source": [
    "Here we have 2 parameters W and b and in order to approximate y and changing the values of m and c will give us different lines. So we have to find the optimal line i.e optimal value of m and c\n",
    "\n",
    "We need a mechanism which can tell us how much loss we are incurring on selecting parameter values. This is achieved using a loss function.\n",
    "\n",
    "Therefore, we use mean squared error for this\n",
    "\n",
    "$$\\text{MSE} = \\frac{1}{n} \\sum_{i=1}^n (y^{(i)} - h_\\theta^{(i)})^2$$\n",
    "\n",
    "\n",
    "The solution to above equation is\n",
    "$$\\mathbf{W}^* = (\\mathbf{X}^\\top\\mathbf{X})^{-1}\\mathbf{X}^\\top \\mathbf{y}$$"
   ]
  },
  {
   "cell_type": "markdown",
   "metadata": {},
   "source": [
    "### Normalization\n",
    "\n",
    "It is a good idea to normalize all the values in the design matrix. This means all values should be in the range $(0, 1)$ and centered around zero.\n",
    "\n",
    "![normalization](http://cs231n.github.io/assets/nn2/prepro1.jpeg)\n",
    "\n",
    "(Image taken from http://cs231n.github.io/neural-networks-2/)\n",
    "\n",
    "Normalization helps the learning algorithm perform better.\n",
    "Fortunately, `sklearn.linear_model.LinearRegression` has an initialization parameter `normalize` that will take care of this for you."
   ]
  },
  {
   "cell_type": "markdown",
   "metadata": {},
   "source": [
    "## Outline\n",
    "\n",
    "    \n",
    "    1 Preprocessing\n",
    "        1.1 Understanding the problem and the data available\n",
    "        1.2 Normality and skewness\n",
    "        1.3 Missing values\n",
    "        1.4 Dummy encoding\n",
    "        1.5 Rescaling\n",
    "    2 Regression\n",
    "        2.1 Linear regression\n",
    "        2.2 L1 regularisation\n",
    "        2.3 L2 regularisation\n",
    "        2.4 ElasticNet regularisation\n"
   ]
  },
  {
   "cell_type": "code",
   "execution_count": 3,
   "metadata": {},
   "outputs": [],
   "source": [
    "# Data split\n",
    "\n",
    "num_hours_studied = np.array([1, 2, 3, 4, 5, 6, 7, 7, 8, 9, 10, 11, 12])\n",
    "exam_score = np.array([18, 26, 31, 40, 55, 62, 71, 70, 75, 85, 97, 101, 105])\n",
    "\n",
    "x_train = np.array([[1], [2], [3], [4], [5], [6], [7], [7], [8], [10], [12]])\n",
    "y_train = np.array([18, 26, 31, 40, 55, 62, 71, 70, 75, 97, 105])\n",
    "\n",
    "x_test = [[9], [11]]\n",
    "y_test = [85, 100]"
   ]
  },
  {
   "cell_type": "code",
   "execution_count": 4,
   "metadata": {},
   "outputs": [
    {
     "data": {
      "text/plain": [
       "<matplotlib.collections.PathCollection at 0x7f64010ced90>"
      ]
     },
     "execution_count": 4,
     "metadata": {},
     "output_type": "execute_result"
    },
    {
     "data": {
      "image/png": "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\n",
      "text/plain": [
       "<Figure size 432x288 with 1 Axes>"
      ]
     },
     "metadata": {
      "needs_background": "light"
     },
     "output_type": "display_data"
    }
   ],
   "source": [
    "plt.scatter(x_train, y_train)"
   ]
  },
  {
   "cell_type": "code",
   "execution_count": 5,
   "metadata": {},
   "outputs": [
    {
     "data": {
      "text/plain": [
       "LinearRegression(copy_X=True, fit_intercept=True, n_jobs=None, normalize=True)"
      ]
     },
     "execution_count": 5,
     "metadata": {},
     "output_type": "execute_result"
    }
   ],
   "source": [
    "model = LinearRegression(normalize=True)\n",
    "model.fit(x_train, y_train)"
   ]
  },
  {
   "cell_type": "code",
   "execution_count": 6,
   "metadata": {},
   "outputs": [
    {
     "name": "stdout",
     "output_type": "stream",
     "text": [
      "Model Coeff:  [8.37922705]\n",
      "Model Bias: 9.577294685990324\n"
     ]
    }
   ],
   "source": [
    "print('Model Coeff:  ' + '{}'.format(model.coef_))\n",
    "print('Model Bias: ' + '{}'.format(model.intercept_))"
   ]
  },
  {
   "cell_type": "code",
   "execution_count": 7,
   "metadata": {},
   "outputs": [],
   "source": [
    "def plot_curve(x, coef, bias):\n",
    "    y = x * coef + bias\n",
    "    plt.plot(x, y, color='g')"
   ]
  },
  {
   "cell_type": "code",
   "execution_count": 8,
   "metadata": {},
   "outputs": [
    {
     "data": {
      "image/png": "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\n",
      "text/plain": [
       "<Figure size 432x288 with 1 Axes>"
      ]
     },
     "metadata": {
      "needs_background": "light"
     },
     "output_type": "display_data"
    }
   ],
   "source": [
    "pred = model.predict(x_test)\n",
    "plt.scatter(x_train, y_train)\n",
    "plt.scatter(x_test, pred)\n",
    "plot_curve(num_hours_studied, model.coef_, model.intercept_)"
   ]
  },
  {
   "cell_type": "markdown",
   "metadata": {},
   "source": [
    "# Predicting Car Sales Price"
   ]
  },
  {
   "cell_type": "code",
   "execution_count": 10,
   "metadata": {},
   "outputs": [
    {
     "data": {
      "text/html": [
       "<div>\n",
       "<style scoped>\n",
       "    .dataframe tbody tr th:only-of-type {\n",
       "        vertical-align: middle;\n",
       "    }\n",
       "\n",
       "    .dataframe tbody tr th {\n",
       "        vertical-align: top;\n",
       "    }\n",
       "\n",
       "    .dataframe thead th {\n",
       "        text-align: right;\n",
       "    }\n",
       "</style>\n",
       "<table border=\"1\" class=\"dataframe\">\n",
       "  <thead>\n",
       "    <tr style=\"text-align: right;\">\n",
       "      <th></th>\n",
       "      <th>Car_Name</th>\n",
       "      <th>Year</th>\n",
       "      <th>Selling_Price</th>\n",
       "      <th>Present_Price</th>\n",
       "      <th>Kms_Driven</th>\n",
       "      <th>Fuel_Type</th>\n",
       "      <th>Seller_Type</th>\n",
       "      <th>Transmission</th>\n",
       "      <th>Owner</th>\n",
       "    </tr>\n",
       "  </thead>\n",
       "  <tbody>\n",
       "    <tr>\n",
       "      <td>0</td>\n",
       "      <td>ritz</td>\n",
       "      <td>2014</td>\n",
       "      <td>3.35</td>\n",
       "      <td>5.59</td>\n",
       "      <td>27000</td>\n",
       "      <td>Petrol</td>\n",
       "      <td>Dealer</td>\n",
       "      <td>Manual</td>\n",
       "      <td>0</td>\n",
       "    </tr>\n",
       "    <tr>\n",
       "      <td>1</td>\n",
       "      <td>sx4</td>\n",
       "      <td>2013</td>\n",
       "      <td>4.75</td>\n",
       "      <td>9.54</td>\n",
       "      <td>43000</td>\n",
       "      <td>Diesel</td>\n",
       "      <td>Dealer</td>\n",
       "      <td>Manual</td>\n",
       "      <td>0</td>\n",
       "    </tr>\n",
       "    <tr>\n",
       "      <td>2</td>\n",
       "      <td>ciaz</td>\n",
       "      <td>2017</td>\n",
       "      <td>7.25</td>\n",
       "      <td>9.85</td>\n",
       "      <td>6900</td>\n",
       "      <td>Petrol</td>\n",
       "      <td>Dealer</td>\n",
       "      <td>Manual</td>\n",
       "      <td>0</td>\n",
       "    </tr>\n",
       "    <tr>\n",
       "      <td>3</td>\n",
       "      <td>wagon r</td>\n",
       "      <td>2011</td>\n",
       "      <td>2.85</td>\n",
       "      <td>4.15</td>\n",
       "      <td>5200</td>\n",
       "      <td>Petrol</td>\n",
       "      <td>Dealer</td>\n",
       "      <td>Manual</td>\n",
       "      <td>0</td>\n",
       "    </tr>\n",
       "    <tr>\n",
       "      <td>4</td>\n",
       "      <td>swift</td>\n",
       "      <td>2014</td>\n",
       "      <td>4.60</td>\n",
       "      <td>6.87</td>\n",
       "      <td>42450</td>\n",
       "      <td>Diesel</td>\n",
       "      <td>Dealer</td>\n",
       "      <td>Manual</td>\n",
       "      <td>0</td>\n",
       "    </tr>\n",
       "  </tbody>\n",
       "</table>\n",
       "</div>"
      ],
      "text/plain": [
       "  Car_Name  Year  Selling_Price  Present_Price  Kms_Driven Fuel_Type  \\\n",
       "0     ritz  2014           3.35           5.59       27000    Petrol   \n",
       "1      sx4  2013           4.75           9.54       43000    Diesel   \n",
       "2     ciaz  2017           7.25           9.85        6900    Petrol   \n",
       "3  wagon r  2011           2.85           4.15        5200    Petrol   \n",
       "4    swift  2014           4.60           6.87       42450    Diesel   \n",
       "\n",
       "  Seller_Type Transmission  Owner  \n",
       "0      Dealer       Manual      0  \n",
       "1      Dealer       Manual      0  \n",
       "2      Dealer       Manual      0  \n",
       "3      Dealer       Manual      0  \n",
       "4      Dealer       Manual      0  "
      ]
     },
     "execution_count": 10,
     "metadata": {},
     "output_type": "execute_result"
    }
   ],
   "source": [
    "df = pd.read_csv('/home/convolution/Downloads/car data.csv')\n",
    "df.head()"
   ]
  },
  {
   "cell_type": "code",
   "execution_count": 11,
   "metadata": {},
   "outputs": [
    {
     "data": {
      "text/plain": [
       "<matplotlib.axes._subplots.AxesSubplot at 0x7f6401016550>"
      ]
     },
     "execution_count": 11,
     "metadata": {},
     "output_type": "execute_result"
    },
    {
     "data": {
      "image/png": "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\n",
      "text/plain": [
       "<Figure size 432x288 with 1 Axes>"
      ]
     },
     "metadata": {
      "needs_background": "light"
     },
     "output_type": "display_data"
    }
   ],
   "source": [
    "sns.distplot(df.Selling_Price)"
   ]
  },
  {
   "cell_type": "code",
   "execution_count": 13,
   "metadata": {},
   "outputs": [
    {
     "data": {
      "text/plain": [
       "Car_Name         0\n",
       "Year             0\n",
       "Selling_Price    0\n",
       "Present_Price    0\n",
       "Kms_Driven       0\n",
       "Fuel_Type        0\n",
       "Seller_Type      0\n",
       "Transmission     0\n",
       "Owner            0\n",
       "dtype: int64"
      ]
     },
     "execution_count": 13,
     "metadata": {},
     "output_type": "execute_result"
    }
   ],
   "source": [
    "df.isnull().sum()"
   ]
  },
  {
   "cell_type": "code",
   "execution_count": 12,
   "metadata": {},
   "outputs": [
    {
     "data": {
      "text/plain": [
       "<seaborn.axisgrid.PairGrid at 0x7f6400f90c50>"
      ]
     },
     "execution_count": 12,
     "metadata": {},
     "output_type": "execute_result"
    },
    {
     "data": {
      "image/png": "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\n",
      "text/plain": [
       "<Figure size 900x900 with 30 Axes>"
      ]
     },
     "metadata": {
      "needs_background": "light"
     },
     "output_type": "display_data"
    }
   ],
   "source": [
    "sns.pairplot(df)"
   ]
  },
  {
   "cell_type": "code",
   "execution_count": 22,
   "metadata": {},
   "outputs": [
    {
     "data": {
      "text/plain": [
       "<matplotlib.axes._subplots.AxesSubplot at 0x7f63fc065050>"
      ]
     },
     "execution_count": 22,
     "metadata": {},
     "output_type": "execute_result"
    },
    {
     "data": {
      "image/png": "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\n",
      "text/plain": [
       "<Figure size 1440x720 with 2 Axes>"
      ]
     },
     "metadata": {
      "needs_background": "light"
     },
     "output_type": "display_data"
    }
   ],
   "source": [
    "fig, ax = plt.subplots(figsize=(20,10)) \n",
    "sns.heatmap(df.drop('Year', axis = 1).corr(), annot=True, cmap = 'viridis')"
   ]
  },
  {
   "cell_type": "code",
   "execution_count": 23,
   "metadata": {},
   "outputs": [],
   "source": [
    "y = df['Selling_Price'].values\n",
    "df = pd.get_dummies(df[['Kms_Driven', 'Present_Price', 'Fuel_Type']])"
   ]
  },
  {
   "cell_type": "code",
   "execution_count": 24,
   "metadata": {},
   "outputs": [
    {
     "data": {
      "text/html": [
       "<div>\n",
       "<style scoped>\n",
       "    .dataframe tbody tr th:only-of-type {\n",
       "        vertical-align: middle;\n",
       "    }\n",
       "\n",
       "    .dataframe tbody tr th {\n",
       "        vertical-align: top;\n",
       "    }\n",
       "\n",
       "    .dataframe thead th {\n",
       "        text-align: right;\n",
       "    }\n",
       "</style>\n",
       "<table border=\"1\" class=\"dataframe\">\n",
       "  <thead>\n",
       "    <tr style=\"text-align: right;\">\n",
       "      <th></th>\n",
       "      <th>Kms_Driven</th>\n",
       "      <th>Present_Price</th>\n",
       "      <th>Fuel_Type_CNG</th>\n",
       "      <th>Fuel_Type_Diesel</th>\n",
       "      <th>Fuel_Type_Petrol</th>\n",
       "    </tr>\n",
       "  </thead>\n",
       "  <tbody>\n",
       "    <tr>\n",
       "      <td>0</td>\n",
       "      <td>27000</td>\n",
       "      <td>5.59</td>\n",
       "      <td>0</td>\n",
       "      <td>0</td>\n",
       "      <td>1</td>\n",
       "    </tr>\n",
       "    <tr>\n",
       "      <td>1</td>\n",
       "      <td>43000</td>\n",
       "      <td>9.54</td>\n",
       "      <td>0</td>\n",
       "      <td>1</td>\n",
       "      <td>0</td>\n",
       "    </tr>\n",
       "    <tr>\n",
       "      <td>2</td>\n",
       "      <td>6900</td>\n",
       "      <td>9.85</td>\n",
       "      <td>0</td>\n",
       "      <td>0</td>\n",
       "      <td>1</td>\n",
       "    </tr>\n",
       "    <tr>\n",
       "      <td>3</td>\n",
       "      <td>5200</td>\n",
       "      <td>4.15</td>\n",
       "      <td>0</td>\n",
       "      <td>0</td>\n",
       "      <td>1</td>\n",
       "    </tr>\n",
       "    <tr>\n",
       "      <td>4</td>\n",
       "      <td>42450</td>\n",
       "      <td>6.87</td>\n",
       "      <td>0</td>\n",
       "      <td>1</td>\n",
       "      <td>0</td>\n",
       "    </tr>\n",
       "  </tbody>\n",
       "</table>\n",
       "</div>"
      ],
      "text/plain": [
       "   Kms_Driven  Present_Price  Fuel_Type_CNG  Fuel_Type_Diesel  \\\n",
       "0       27000           5.59              0                 0   \n",
       "1       43000           9.54              0                 1   \n",
       "2        6900           9.85              0                 0   \n",
       "3        5200           4.15              0                 0   \n",
       "4       42450           6.87              0                 1   \n",
       "\n",
       "   Fuel_Type_Petrol  \n",
       "0                 1  \n",
       "1                 0  \n",
       "2                 1  \n",
       "3                 1  \n",
       "4                 0  "
      ]
     },
     "execution_count": 24,
     "metadata": {},
     "output_type": "execute_result"
    }
   ],
   "source": [
    "df.head()"
   ]
  },
  {
   "cell_type": "code",
   "execution_count": 25,
   "metadata": {},
   "outputs": [],
   "source": [
    "x = df[['Kms_Driven', 'Present_Price', 'Fuel_Type_CNG', 'Fuel_Type_Diesel', 'Fuel_Type_Petrol']].values\n",
    "x_train, x_test, y_train, y_test = train_test_split(x, y, test_size = 0.1, random_state = 42)"
   ]
  },
  {
   "cell_type": "code",
   "execution_count": 31,
   "metadata": {},
   "outputs": [
    {
     "data": {
      "text/plain": [
       "LinearRegression(copy_X=True, fit_intercept=True, n_jobs=None, normalize=False)"
      ]
     },
     "execution_count": 31,
     "metadata": {},
     "output_type": "execute_result"
    }
   ],
   "source": [
    "model = LinearRegression()\n",
    "model.fit(x_train, y_train)"
   ]
  },
  {
   "cell_type": "code",
   "execution_count": 32,
   "metadata": {},
   "outputs": [
    {
     "data": {
      "text/html": [
       "<div>\n",
       "<style scoped>\n",
       "    .dataframe tbody tr th:only-of-type {\n",
       "        vertical-align: middle;\n",
       "    }\n",
       "\n",
       "    .dataframe tbody tr th {\n",
       "        vertical-align: top;\n",
       "    }\n",
       "\n",
       "    .dataframe thead th {\n",
       "        text-align: right;\n",
       "    }\n",
       "</style>\n",
       "<table border=\"1\" class=\"dataframe\">\n",
       "  <thead>\n",
       "    <tr style=\"text-align: right;\">\n",
       "      <th></th>\n",
       "      <th>Coefficient</th>\n",
       "    </tr>\n",
       "  </thead>\n",
       "  <tbody>\n",
       "    <tr>\n",
       "      <td>Fuel_Type_Diesel</td>\n",
       "      <td>1.881890</td>\n",
       "    </tr>\n",
       "    <tr>\n",
       "      <td>Present_Price</td>\n",
       "      <td>0.473207</td>\n",
       "    </tr>\n",
       "    <tr>\n",
       "      <td>Kms_Driven</td>\n",
       "      <td>-0.000022</td>\n",
       "    </tr>\n",
       "    <tr>\n",
       "      <td>Fuel_Type_Petrol</td>\n",
       "      <td>-0.755999</td>\n",
       "    </tr>\n",
       "    <tr>\n",
       "      <td>Fuel_Type_CNG</td>\n",
       "      <td>-1.125891</td>\n",
       "    </tr>\n",
       "  </tbody>\n",
       "</table>\n",
       "</div>"
      ],
      "text/plain": [
       "                  Coefficient\n",
       "Fuel_Type_Diesel     1.881890\n",
       "Present_Price        0.473207\n",
       "Kms_Driven          -0.000022\n",
       "Fuel_Type_Petrol    -0.755999\n",
       "Fuel_Type_CNG       -1.125891"
      ]
     },
     "execution_count": 32,
     "metadata": {},
     "output_type": "execute_result"
    }
   ],
   "source": [
    "coeff_df = pd.DataFrame(model.coef_,df.columns,columns=['Coefficient'])\n",
    "ranked_features = coeff_df.sort_values(\"Coefficient\", ascending = False)\n",
    "ranked_features"
   ]
  },
  {
   "cell_type": "markdown",
   "metadata": {},
   "source": [
    "# Regularization\n",
    "\n",
    "\n",
    "Sometimes, a feature may get too high importance. Therefore, in order to make the model more robust to unseen data, we need to avoid weights taking too high values. This technique is known as reqularization\n",
    "\n",
    "* L1 regularization: Adding sum of weight values scaled by a constant. Also known as Lasso\n",
    "* L2 regularization: Adding sum of square of weight values scaled by a constant. Also known as Ridge"
   ]
  },
  {
   "cell_type": "code",
   "execution_count": 34,
   "metadata": {},
   "outputs": [
    {
     "data": {
      "text/plain": [
       "Lasso(alpha=1.0, copy_X=True, fit_intercept=True, max_iter=1000,\n",
       "      normalize=False, positive=False, precompute=False, random_state=None,\n",
       "      selection='cyclic', tol=0.0001, warm_start=False)"
      ]
     },
     "execution_count": 34,
     "metadata": {},
     "output_type": "execute_result"
    }
   ],
   "source": [
    "lasso = Lasso()\n",
    "lasso.fit(x_train, y_train)"
   ]
  },
  {
   "cell_type": "code",
   "execution_count": 36,
   "metadata": {},
   "outputs": [
    {
     "data": {
      "text/html": [
       "<div>\n",
       "<style scoped>\n",
       "    .dataframe tbody tr th:only-of-type {\n",
       "        vertical-align: middle;\n",
       "    }\n",
       "\n",
       "    .dataframe tbody tr th {\n",
       "        vertical-align: top;\n",
       "    }\n",
       "\n",
       "    .dataframe thead th {\n",
       "        text-align: right;\n",
       "    }\n",
       "</style>\n",
       "<table border=\"1\" class=\"dataframe\">\n",
       "  <thead>\n",
       "    <tr style=\"text-align: right;\">\n",
       "      <th></th>\n",
       "      <th>Coefficient</th>\n",
       "    </tr>\n",
       "  </thead>\n",
       "  <tbody>\n",
       "    <tr>\n",
       "      <td>Present_Price</td>\n",
       "      <td>0.515811</td>\n",
       "    </tr>\n",
       "    <tr>\n",
       "      <td>Fuel_Type_CNG</td>\n",
       "      <td>-0.000000</td>\n",
       "    </tr>\n",
       "    <tr>\n",
       "      <td>Fuel_Type_Diesel</td>\n",
       "      <td>0.000000</td>\n",
       "    </tr>\n",
       "    <tr>\n",
       "      <td>Fuel_Type_Petrol</td>\n",
       "      <td>-0.000000</td>\n",
       "    </tr>\n",
       "    <tr>\n",
       "      <td>Kms_Driven</td>\n",
       "      <td>-0.000019</td>\n",
       "    </tr>\n",
       "  </tbody>\n",
       "</table>\n",
       "</div>"
      ],
      "text/plain": [
       "                  Coefficient\n",
       "Present_Price        0.515811\n",
       "Fuel_Type_CNG       -0.000000\n",
       "Fuel_Type_Diesel     0.000000\n",
       "Fuel_Type_Petrol    -0.000000\n",
       "Kms_Driven          -0.000019"
      ]
     },
     "execution_count": 36,
     "metadata": {},
     "output_type": "execute_result"
    }
   ],
   "source": [
    "coeff_df = pd.DataFrame(lasso.coef_,df.columns,columns=['Coefficient'])\n",
    "ranked_features = coeff_df.sort_values(\"Coefficient\", ascending = False)\n",
    "ranked_features"
   ]
  },
  {
   "cell_type": "code",
   "execution_count": 38,
   "metadata": {},
   "outputs": [
    {
     "data": {
      "text/plain": [
       "Ridge(alpha=1.0, copy_X=True, fit_intercept=True, max_iter=None,\n",
       "      normalize=False, random_state=None, solver='auto', tol=0.001)"
      ]
     },
     "execution_count": 38,
     "metadata": {},
     "output_type": "execute_result"
    }
   ],
   "source": [
    "ridge = Ridge()\n",
    "ridge.fit(x_train, y_train)"
   ]
  },
  {
   "cell_type": "code",
   "execution_count": 39,
   "metadata": {},
   "outputs": [
    {
     "data": {
      "text/html": [
       "<div>\n",
       "<style scoped>\n",
       "    .dataframe tbody tr th:only-of-type {\n",
       "        vertical-align: middle;\n",
       "    }\n",
       "\n",
       "    .dataframe tbody tr th {\n",
       "        vertical-align: top;\n",
       "    }\n",
       "\n",
       "    .dataframe thead th {\n",
       "        text-align: right;\n",
       "    }\n",
       "</style>\n",
       "<table border=\"1\" class=\"dataframe\">\n",
       "  <thead>\n",
       "    <tr style=\"text-align: right;\">\n",
       "      <th></th>\n",
       "      <th>Coefficient</th>\n",
       "    </tr>\n",
       "  </thead>\n",
       "  <tbody>\n",
       "    <tr>\n",
       "      <td>Fuel_Type_Diesel</td>\n",
       "      <td>1.712064</td>\n",
       "    </tr>\n",
       "    <tr>\n",
       "      <td>Present_Price</td>\n",
       "      <td>0.474275</td>\n",
       "    </tr>\n",
       "    <tr>\n",
       "      <td>Kms_Driven</td>\n",
       "      <td>-0.000022</td>\n",
       "    </tr>\n",
       "    <tr>\n",
       "      <td>Fuel_Type_CNG</td>\n",
       "      <td>-0.834813</td>\n",
       "    </tr>\n",
       "    <tr>\n",
       "      <td>Fuel_Type_Petrol</td>\n",
       "      <td>-0.877251</td>\n",
       "    </tr>\n",
       "  </tbody>\n",
       "</table>\n",
       "</div>"
      ],
      "text/plain": [
       "                  Coefficient\n",
       "Fuel_Type_Diesel     1.712064\n",
       "Present_Price        0.474275\n",
       "Kms_Driven          -0.000022\n",
       "Fuel_Type_CNG       -0.834813\n",
       "Fuel_Type_Petrol    -0.877251"
      ]
     },
     "execution_count": 39,
     "metadata": {},
     "output_type": "execute_result"
    }
   ],
   "source": [
    "coeff_df = pd.DataFrame(ridge.coef_,df.columns,columns=['Coefficient'])\n",
    "ranked_features = coeff_df.sort_values(\"Coefficient\", ascending = False)\n",
    "ranked_features"
   ]
  },
  {
   "cell_type": "markdown",
   "metadata": {},
   "source": [
    "## L1 vs L2"
   ]
  },
  {
   "cell_type": "markdown",
   "metadata": {},
   "source": [
    "![](http://www.chioka.in/wp-content/uploads/2013/12/L1-vs-L2-properties-regularization.png)"
   ]
  }
 ],
 "metadata": {
  "kernelspec": {
   "display_name": "Python 3",
   "language": "python",
   "name": "python3"
  },
  "language_info": {
   "codemirror_mode": {
    "name": "ipython",
    "version": 3
   },
   "file_extension": ".py",
   "mimetype": "text/x-python",
   "name": "python",
   "nbconvert_exporter": "python",
   "pygments_lexer": "ipython3",
   "version": "3.7.4"
  }
 },
 "nbformat": 4,
 "nbformat_minor": 2
}
